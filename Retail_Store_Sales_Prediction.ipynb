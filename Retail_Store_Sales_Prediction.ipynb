{
 "cells": [
  {
   "cell_type": "markdown",
   "id": "5cd2dd3e",
   "metadata": {},
   "source": [
    "# Retail_Store_Sales_Prediction"
   ]
  },
  {
   "cell_type": "code",
   "execution_count": null,
   "id": "de1977e1",
   "metadata": {},
   "outputs": [],
   "source": [
    "#importing lib.\n",
    "import pandas as pd\n",
    "import numpy as np\n",
    "import matplotlib.pyplot as plt\n",
    "import seaborn as sns\n",
    "sns.set_style('darkgrid')\n",
    "import plotly.express as px\n",
    "from datetime import datetime\n",
    "%matplotlib inline\n",
    "import warnings\n",
    "warnings\n",
    "warnings.filterwarnings('ignore')"
   ]
  },
  {
   "cell_type": "code",
   "execution_count": null,
   "id": "35440546",
   "metadata": {},
   "outputs": [],
   "source": [
    "#reading csv files\n",
    "features = pd.read_csv(\"E:\\DataScience\\MachineLearning\\Dataset_Cat_03\\Features data set.csv\")\n",
    "sales =pd.read_csv(\"E:\\DataScience\\MachineLearning\\Dataset_Cat_03\\sales data-set.csv\")\n",
    "store =pd.read_csv(\"E:\\DataScience\\MachineLearning\\Dataset_Cat_03\\stores data-set.csv\")"
   ]
  },
  {
   "cell_type": "code",
   "execution_count": null,
   "id": "39967e13",
   "metadata": {},
   "outputs": [],
   "source": [
    "features.head()"
   ]
  },
  {
   "cell_type": "code",
   "execution_count": null,
   "id": "d45cb94a",
   "metadata": {},
   "outputs": [],
   "source": [
    "sales.head()"
   ]
  },
  {
   "cell_type": "code",
   "execution_count": null,
   "id": "19fd77c5",
   "metadata": {},
   "outputs": [],
   "source": [
    "store.head()"
   ]
  },
  {
   "cell_type": "code",
   "execution_count": null,
   "id": "05abb7bf",
   "metadata": {},
   "outputs": [],
   "source": [
    "# merging as data frame into single\n",
    "df = pd.merge(sales, store, on='Store', how='left')\n",
    "df = pd.merge(df, features, on=['Store', 'Date'], how='left')\n",
    "df = df.drop(['IsHoliday_y'], axis=1)\n",
    "df = df.rename(columns={'IsHoliday_x':'IsHoliday'})\n",
    "df.replace({False: 0, True: 1}, inplace=True)\n",
    "df.head()"
   ]
  },
  {
   "cell_type": "code",
   "execution_count": null,
   "id": "88422303",
   "metadata": {},
   "outputs": [],
   "source": [
    "#decribe dataset\n",
    "df.describe()"
   ]
  },
  {
   "cell_type": "code",
   "execution_count": null,
   "id": "a17fb3e9",
   "metadata": {},
   "outputs": [],
   "source": [
    "#columns\n",
    "df.columns"
   ]
  },
  {
   "cell_type": "code",
   "execution_count": null,
   "id": "63259064",
   "metadata": {},
   "outputs": [],
   "source": [
    "#info function return all mata data and data types\n",
    "df.info()"
   ]
  },
  {
   "cell_type": "code",
   "execution_count": null,
   "id": "8c92d5c2",
   "metadata": {},
   "outputs": [],
   "source": [
    "#isnull :count of null values each columns\n",
    "df.isnull().sum()"
   ]
  },
  {
   "cell_type": "code",
   "execution_count": null,
   "id": "cef9ddb5",
   "metadata": {},
   "outputs": [],
   "source": [
    "#shape\n",
    "df.shape"
   ]
  },
  {
   "cell_type": "code",
   "execution_count": null,
   "id": "5d899316",
   "metadata": {},
   "outputs": [],
   "source": [
    "#percentage of null each columns\n",
    "for col in df.columns:\n",
    "    print('{} :NUll%:{}'.format(col,df[col].isnull().sum()/df[col].count()))"
   ]
  },
  {
   "cell_type": "code",
   "execution_count": null,
   "id": "d7c73a09",
   "metadata": {},
   "outputs": [],
   "source": [
    "#plot for null values\n",
    "sns.heatmap(df.isnull(),cbar=False,yticklabels=False,cmap='Dark2_r')"
   ]
  },
  {
   "cell_type": "code",
   "execution_count": null,
   "id": "99b70ad0",
   "metadata": {},
   "outputs": [],
   "source": [
    "#Since the data for columns contains max null\n",
    "#MarkDown1 :NUll%:1.7977648144092486\n",
    "#MarkDown2 :NUll%:2.789461383575435\n",
    "#MarkDown3 :NUll%:2.0751106928974186\n",
    "#MarkDown4 :NUll%:2.1235042640052755\n",
    "#MarkDown5 :NUll%:1.7838897987215383\n",
    "# better to drop since these data can make chnage in  prediction shift\n",
    "#"
   ]
  },
  {
   "cell_type": "code",
   "execution_count": null,
   "id": "99b1bfb3",
   "metadata": {},
   "outputs": [],
   "source": [
    "#data cleaning\n",
    "df.drop(['MarkDown1'], axis=1, inplace=True)\n",
    "df.drop(['MarkDown2'], axis=1, inplace=True)\n",
    "df.drop(['MarkDown3'], axis=1, inplace=True)\n",
    "df.drop(['MarkDown4'], axis=1, inplace=True)\n",
    "df.drop(['MarkDown5'], axis=1, inplace=True)"
   ]
  },
  {
   "cell_type": "code",
   "execution_count": null,
   "id": "0c70f087",
   "metadata": {},
   "outputs": [],
   "source": [
    "#shows first 5 entries in dataset\n",
    "df.head()"
   ]
  },
  {
   "cell_type": "markdown",
   "id": "09314ffd",
   "metadata": {},
   "source": [
    "## Data Visualization"
   ]
  },
  {
   "cell_type": "code",
   "execution_count": null,
   "id": "64f42cd1",
   "metadata": {},
   "outputs": [],
   "source": [
    "#distribution of data :Weekly_Sales\n",
    "sns.distplot(df['Weekly_Sales'],kde=True,color='blue',bins=50)"
   ]
  },
  {
   "cell_type": "code",
   "execution_count": null,
   "id": "a16c4cb2",
   "metadata": {},
   "outputs": [],
   "source": [
    "#distribution of data :Fuel_Price\n",
    "sns.distplot(df['Fuel_Price'],kde=True,color='blue',bins=100)"
   ]
  },
  {
   "cell_type": "code",
   "execution_count": null,
   "id": "795d6593",
   "metadata": {},
   "outputs": [],
   "source": [
    "#Temp vs Weekly_sales\n",
    "fig = px.histogram(df, x=\"Temperature\", y=\"Weekly_Sales\",\n",
    "                   marginal=\"box\",color='Temperature',hover_data=df.columns)\n",
    "fig.show()"
   ]
  },
  {
   "cell_type": "code",
   "execution_count": null,
   "id": "f42b2f13",
   "metadata": {},
   "outputs": [],
   "source": [
    "# visualization-weekly sales vs features\n",
    "sns.pairplot(df ,height=3, aspect=1.5, y_vars=['Weekly_Sales'], \n",
    "             x_vars=['Store', 'Dept'])\n",
    "sns.pairplot(df ,height=3, aspect=1.5, y_vars=['Weekly_Sales'], \n",
    "             x_vars=['Fuel_Price', 'Temperature'])\n",
    "sns.pairplot(df ,height=3, aspect=1.5, y_vars=['Weekly_Sales'], \n",
    "             x_vars=['Type', 'Size'])\n",
    "sns.pairplot(df ,height=3, aspect=1.5, y_vars=['Weekly_Sales'], \n",
    "             x_vars=['Unemployment', 'CPI'])\n",
    "sns.pairplot(df ,height=3, aspect=1.5, y_vars=['Weekly_Sales'], \n",
    "             x_vars=['IsHoliday'])"
   ]
  },
  {
   "cell_type": "code",
   "execution_count": null,
   "id": "c4bb150f",
   "metadata": {},
   "outputs": [],
   "source": [
    "#weekly sales\n",
    "df['Weekly_Sales'] = df['Weekly_Sales'].astype(float)\n",
    "df = df[df['Weekly_Sales']>=0]\n",
    "\n",
    "#temperature\n",
    "df['Temperature'] = (df['Temperature'] - 32) * (5/9) # (F to C)\n",
    "\n",
    "#size\n",
    "df.drop(['Size'], axis=1, inplace=True)\n",
    "\n",
    "#time-related features\n",
    "df.Date = pd.to_datetime(df.Date, format='%d/%m/%Y')\n",
    "df['week'] = df.Date.dt.week\n",
    "df['year'] = df.Date.dt.year\n",
    "df1 = df.copy()\n",
    "df.drop(['Date'], axis=1, inplace=True)\n",
    "df['year_week'] =  df['year'].astype(str) + df['week'].astype(str)\n",
    "df['year_week'] =  df['year_week'].astype(int)\n",
    "df.loc[df['week']<10, 'year_week'] = df.loc[df['week']<10, 'year'].astype(str) + '0' + df.loc[\n",
    "    df['week']<10, 'week'].astype(str)\n",
    "df['year_week'] =  df['year_week'].astype(int)"
   ]
  },
  {
   "cell_type": "code",
   "execution_count": null,
   "id": "42eb1333",
   "metadata": {},
   "outputs": [],
   "source": [
    "df.head()"
   ]
  },
  {
   "cell_type": "code",
   "execution_count": null,
   "id": "f264e681",
   "metadata": {},
   "outputs": [],
   "source": [
    "df.corr(method='pearson')"
   ]
  },
  {
   "cell_type": "code",
   "execution_count": null,
   "id": "4dc1e68c",
   "metadata": {},
   "outputs": [],
   "source": [
    "#to get correlation amonngs data\n",
    "plt.figure(figsize=(10,10))\n",
    "sns.heatmap(df.corr(method='pearson'),cbar=True,square=True,fmt='.2f',annot=True,annot_kws={'size':10},cmap='Pastel2')"
   ]
  },
  {
   "cell_type": "code",
   "execution_count": null,
   "id": "f10dfac0",
   "metadata": {},
   "outputs": [],
   "source": [
    "#lets work  store =20\n",
    "df_20=df.loc[df['Store']==20]"
   ]
  },
  {
   "cell_type": "code",
   "execution_count": null,
   "id": "80ecc48b",
   "metadata": {},
   "outputs": [],
   "source": [
    "df_20"
   ]
  },
  {
   "cell_type": "code",
   "execution_count": null,
   "id": "b37715f9",
   "metadata": {},
   "outputs": [],
   "source": [
    "#reset the index of data-set for df_20\n",
    "df_20.reset_index(inplace=True)"
   ]
  },
  {
   "cell_type": "code",
   "execution_count": null,
   "id": "8019e415",
   "metadata": {},
   "outputs": [],
   "source": [
    "df_20.drop(['index'],axis=1,inplace=True)"
   ]
  },
  {
   "cell_type": "code",
   "execution_count": null,
   "id": "fe6841a7",
   "metadata": {},
   "outputs": [],
   "source": [
    "df_20=df_20.groupby(by=['year_week'], as_index=False)['Weekly_Sales'].sum()"
   ]
  },
  {
   "cell_type": "code",
   "execution_count": null,
   "id": "bb828648",
   "metadata": {},
   "outputs": [],
   "source": [
    "df_20.shape"
   ]
  },
  {
   "cell_type": "code",
   "execution_count": null,
   "id": "93dc40b0",
   "metadata": {},
   "outputs": [],
   "source": [
    "df_20.columns"
   ]
  },
  {
   "cell_type": "code",
   "execution_count": null,
   "id": "7731986e",
   "metadata": {},
   "outputs": [],
   "source": [
    "df_21 =df.loc[df['Store']==20]"
   ]
  },
  {
   "cell_type": "code",
   "execution_count": null,
   "id": "71e33c96",
   "metadata": {},
   "outputs": [],
   "source": [
    "df_21.head()"
   ]
  },
  {
   "cell_type": "code",
   "execution_count": null,
   "id": "4b3ecce9",
   "metadata": {},
   "outputs": [],
   "source": [
    "df_21.drop(['Weekly_Sales'], axis=1, inplace=True)\n",
    "df_21.drop(['Store'], axis=1, inplace=True)\n",
    "df_21.drop(['Dept'], axis=1, inplace=True)\n",
    "df_21.drop(['Type'], axis=1, inplace=True)\n",
    "df_21 = df_21.reset_index()\n",
    "df_21.drop(['index'],axis=1,inplace=True)\n",
    "df_21 = df_21.iloc[:143]\n",
    "df_21"
   ]
  },
  {
   "cell_type": "code",
   "execution_count": null,
   "id": "ddd6f8d7",
   "metadata": {},
   "outputs": [],
   "source": [
    "#merging pd\n",
    "df20_3 = pd.merge(df_20, df_21)\n",
    "df20_3['year_week'] = df20_3['year_week'].astype(int)\n",
    "df20_3.drop(['year'], axis=1, inplace=True)\n",
    "df20_3"
   ]
  },
  {
   "cell_type": "code",
   "execution_count": null,
   "id": "ac7dc7f2",
   "metadata": {},
   "outputs": [],
   "source": [
    "#y->target ----- x->data\n",
    "X=df20_3.iloc[:,[1,3,4,5,6,7]].values\n",
    "y=df20_3['Weekly_Sales'].values  "
   ]
  },
  {
   "cell_type": "code",
   "execution_count": null,
   "id": "f8988dac",
   "metadata": {},
   "outputs": [],
   "source": [
    "#shape of X\n",
    "X.shape"
   ]
  },
  {
   "cell_type": "code",
   "execution_count": null,
   "id": "2aa62ddf",
   "metadata": {},
   "outputs": [],
   "source": [
    "#shape of y\n",
    "y.shape"
   ]
  },
  {
   "cell_type": "markdown",
   "id": "3cce444a",
   "metadata": {},
   "source": [
    "## Model Training and Testing"
   ]
  },
  {
   "cell_type": "code",
   "execution_count": null,
   "id": "a3834164",
   "metadata": {},
   "outputs": [],
   "source": [
    "#importing imp lib..\n",
    "from sklearn.model_selection import train_test_split\n",
    "from sklearn.linear_model import LinearRegression"
   ]
  },
  {
   "cell_type": "code",
   "execution_count": null,
   "id": "88fc3e1b",
   "metadata": {},
   "outputs": [],
   "source": [
    "#training and testing split\n",
    "X_train ,X_test ,y_train ,y_test = train_test_split(X,y,test_size=1/3)"
   ]
  },
  {
   "cell_type": "code",
   "execution_count": null,
   "id": "8b608bd9",
   "metadata": {},
   "outputs": [],
   "source": [
    "#shapes of training and testing set\n",
    "print(\"Shape X_train :\",X_train.shape)\n",
    "print(\"Shape y_train :\",y_train.shape)\n",
    "print(\"Shape X_test :\",X_test.shape)\n",
    "print(\"Shape y_test :\",y_test.shape)"
   ]
  },
  {
   "cell_type": "code",
   "execution_count": null,
   "id": "3dbc967a",
   "metadata": {},
   "outputs": [],
   "source": [
    "#model training \n",
    "model=LinearRegression()\n",
    "model.fit(X_train,y_train)"
   ]
  },
  {
   "cell_type": "code",
   "execution_count": null,
   "id": "8c81488e",
   "metadata": {},
   "outputs": [],
   "source": [
    "#y_pred : predicted values\n",
    "y_pred=model.predict(X_test)"
   ]
  },
  {
   "cell_type": "code",
   "execution_count": null,
   "id": "7c41a712",
   "metadata": {},
   "outputs": [],
   "source": [
    "#Report of model\n",
    "print('Coefficients: \\n', model.coef_)\n",
    "print(\"Mean squared error: %.2f\" % np.mean((model.predict(X_test) - y_test) ** 2))\n",
    "print('Variance score: %.2f' % model.score(X_test, y_test))"
   ]
  },
  {
   "cell_type": "code",
   "execution_count": null,
   "id": "189946ff",
   "metadata": {},
   "outputs": [],
   "source": [
    "def accuracy(X_test,y_test, y_pred):\n",
    "    print('accuracy (R^2):\\n', model.score(X_test, y_test)*100, '%')"
   ]
  },
  {
   "cell_type": "code",
   "execution_count": null,
   "id": "192e0668",
   "metadata": {},
   "outputs": [],
   "source": [
    "accuracy(X_test, y_test, y_pred)"
   ]
  },
  {
   "cell_type": "code",
   "execution_count": null,
   "id": "64a99d55",
   "metadata": {},
   "outputs": [],
   "source": [
    "#training with Xgboost regressor\n",
    "import xgboost as xgb\n",
    "model = xgb.XGBRegressor(objective ='reg:squarederror', learning_rate = 0.2, max_depth = 10, n_estimators = 100)\n",
    "model.fit(X_train, y_train)"
   ]
  },
  {
   "cell_type": "code",
   "execution_count": null,
   "id": "ee7c9121",
   "metadata": {},
   "outputs": [],
   "source": [
    "result = model.score(X_test, y_test)\n",
    "print(\"Accuracy : {}\".format(result))"
   ]
  },
  {
   "cell_type": "code",
   "execution_count": null,
   "id": "b26d743c",
   "metadata": {},
   "outputs": [],
   "source": [
    "XXXXXXXXXXXXXXXXXXXXXXXXXXXXXX----Thanks----XXXXXXXXXXXXXXXXXXXXXXXXXXXXXXXXXXXx\n",
    "@copyright ---Saurabh ...."
   ]
  }
 ],
 "metadata": {
  "kernelspec": {
   "display_name": "Python 3",
   "language": "python",
   "name": "python3"
  },
  "language_info": {
   "codemirror_mode": {
    "name": "ipython",
    "version": 3
   },
   "file_extension": ".py",
   "mimetype": "text/x-python",
   "name": "python",
   "nbconvert_exporter": "python",
   "pygments_lexer": "ipython3",
   "version": "3.8.8"
  }
 },
 "nbformat": 4,
 "nbformat_minor": 5
}
